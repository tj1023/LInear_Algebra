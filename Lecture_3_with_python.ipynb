{
  "nbformat": 4,
  "nbformat_minor": 0,
  "metadata": {
    "colab": {
      "provenance": [],
      "authorship_tag": "ABX9TyP2T2I/sQyMSxsySmOOcCmf",
      "include_colab_link": true
    },
    "kernelspec": {
      "name": "python3",
      "display_name": "Python 3"
    },
    "language_info": {
      "name": "python"
    }
  },
  "cells": [
    {
      "cell_type": "markdown",
      "metadata": {
        "id": "view-in-github",
        "colab_type": "text"
      },
      "source": [
        "<a href=\"https://colab.research.google.com/github/tj1023/LInear_Algebra/blob/main/Lecture_3_with_python.ipynb\" target=\"_parent\"><img src=\"https://colab.research.google.com/assets/colab-badge.svg\" alt=\"Open In Colab\"/></a>"
      ]
    },
    {
      "cell_type": "code",
      "execution_count": 1,
      "metadata": {
        "colab": {
          "base_uri": "https://localhost:8080/"
        },
        "id": "NT2-GxT19X3B",
        "outputId": "11bc0f5c-e0c9-448f-86bc-b97503d472e8"
      },
      "outputs": [
        {
          "output_type": "execute_result",
          "data": {
            "text/plain": [
              "3.0"
            ]
          },
          "metadata": {},
          "execution_count": 1
        }
      ],
      "source": [
        "import numpy as np\n",
        "x=np.array([2, -1, 2])\n",
        "np.linalg.norm(x)"
      ]
    },
    {
      "cell_type": "code",
      "source": [
        "np.sqrt(np.inner(x, x))"
      ],
      "metadata": {
        "colab": {
          "base_uri": "https://localhost:8080/"
        },
        "id": "mtkzO-oE9jwb",
        "outputId": "edd55ad5-a0f1-41b6-eac5-0dd211a3f0d8"
      },
      "execution_count": 2,
      "outputs": [
        {
          "output_type": "execute_result",
          "data": {
            "text/plain": [
              "3.0"
            ]
          },
          "metadata": {},
          "execution_count": 2
        }
      ]
    },
    {
      "cell_type": "code",
      "source": [
        "sum(x**2)**0.5"
      ],
      "metadata": {
        "colab": {
          "base_uri": "https://localhost:8080/"
        },
        "id": "xn7TmRKY9mnC",
        "outputId": "8322488b-962b-40e3-f8f6-247f8974a842"
      },
      "execution_count": 3,
      "outputs": [
        {
          "output_type": "execute_result",
          "data": {
            "text/plain": [
              "3.0"
            ]
          },
          "metadata": {},
          "execution_count": 3
        }
      ]
    },
    {
      "cell_type": "code",
      "source": [
        "x=np.random.random(10)\n",
        "y=np.random.random(10)\n",
        "left=np.linalg.norm(x+y)\n",
        "right=np.linalg.norm(x)+np.linalg.norm(y)\n",
        "print('Left  :', left)\n",
        "print('Right :', right)"
      ],
      "metadata": {
        "colab": {
          "base_uri": "https://localhost:8080/"
        },
        "id": "gX5AzJdE9pm_",
        "outputId": "7ebeca49-368d-4ed8-be25-156e3775f8a6"
      },
      "execution_count": 4,
      "outputs": [
        {
          "output_type": "stream",
          "name": "stdout",
          "text": [
            "Left  : 3.7353601762021835\n",
            "Right : 3.8685840822244875\n"
          ]
        }
      ]
    },
    {
      "cell_type": "code",
      "source": [
        "t=np.arange(0, 1.01, 0.1)\n",
        "x=np.cos(8*t)-2*np.sin(11*t)\n",
        "print(\"t: \", t)\n",
        "print(\"x: \", x)\n",
        "\n",
        "rms=lambda x: np.linalg.norm(x)/np.sqrt(len(x))\n",
        "print(\"rms :\", rms(x))"
      ],
      "metadata": {
        "colab": {
          "base_uri": "https://localhost:8080/"
        },
        "id": "z9yzZrP096uH",
        "outputId": "d3011328-2d62-44a1-f7a2-40c9908f4964"
      },
      "execution_count": 6,
      "outputs": [
        {
          "output_type": "stream",
          "name": "stdout",
          "text": [
            "t:  [0.  0.1 0.2 0.3 0.4 0.5 0.6 0.7 0.8 0.9 1. ]\n",
            "x:  [ 1.         -1.08570801 -1.64619233 -0.42190233  0.90490937  0.75743703\n",
            " -0.53558374 -1.20077059 -0.17664947  1.5234231   1.85448038]\n",
            "rms : 1.1273099471199068\n"
          ]
        }
      ]
    },
    {
      "cell_type": "code",
      "source": [
        "import matplotlib.pyplot as plt\n",
        "plt.plot(t,x)\n",
        "plt.plot(t, np.mean(x)*np.ones(len(x)))\n",
        "plt.plot(t, (np.mean(x)+ rms(x))*np.ones(len(x)), 'g')\n",
        "plt.plot(t, (np.mean(x)- rms(x))*np.ones(len(x)), 'g')"
      ],
      "metadata": {
        "colab": {
          "base_uri": "https://localhost:8080/",
          "height": 286
        },
        "id": "WUS_vPGJ-Tby",
        "outputId": "0fcdac81-127b-4212-ca2b-241a8fc6cc72"
      },
      "execution_count": 8,
      "outputs": [
        {
          "output_type": "execute_result",
          "data": {
            "text/plain": [
              "[<matplotlib.lines.Line2D at 0x7fc6687bc3d0>]"
            ]
          },
          "metadata": {},
          "execution_count": 8
        },
        {
          "output_type": "display_data",
          "data": {
            "text/plain": [
              "<Figure size 432x288 with 1 Axes>"
            ],
            "image/png": "[encoded data removed]"
          },
          "metadata": {
            "needs_background": "light"
          }
        }
      ]
    },
    {
      "cell_type": "code",
      "source": [
        "import math\n",
        "x=np.array([0, 1, 1, 1, 1, 1, 1, 10])\n",
        "cheb_bound=lambda x,a : math.floor(sum(x**2)/a**2)\n",
        "a=9\n",
        "\n",
        "print(\"value of a : \", a)\n",
        "print(\"vector x : \", x)\n",
        "print(\"Chebychev bound :\", cheb_bound(x, a))\n",
        "print(\"number of values >= a : \", sum(abs(x) >= a))"
      ],
      "metadata": {
        "colab": {
          "base_uri": "https://localhost:8080/"
        },
        "id": "5wJNnXhN-vYS",
        "outputId": "2c79041d-be95-4c7a-b20a-23c9ba82241d"
      },
      "execution_count": 10,
      "outputs": [
        {
          "output_type": "stream",
          "name": "stdout",
          "text": [
            "value of a :  9\n",
            "vector x :  [ 0  1  1  1  1  1  1 10]\n",
            "Chebychev bound : 1\n",
            "number of values >= a :  1\n"
          ]
        }
      ]
    },
    {
      "cell_type": "code",
      "source": [
        "u=np.array([1.8, 2.0, -3.7, 4.7])\n",
        "v=np.array([0.6, 2.1, 1.9, -1.4])\n",
        "w=np.array([2.0, 1.9, -4.0, 4.6])\n",
        "\n",
        "print(np.linalg.norm(u-v))\n",
        "print(np.linalg.norm(u-w))\n",
        "print(np.linalg.norm(v-w))"
      ],
      "metadata": {
        "colab": {
          "base_uri": "https://localhost:8080/"
        },
        "id": "LBDcxztU_OhG",
        "outputId": "bbab04ec-b9e3-47c2-fb31-9ee263baf2ad"
      },
      "execution_count": 12,
      "outputs": [
        {
          "output_type": "stream",
          "name": "stdout",
          "text": [
            "8.36779540858881\n",
            "0.3872983346207417\n",
            "8.532877591996735\n"
          ]
        }
      ]
    },
    {
      "cell_type": "code",
      "source": [
        "nn=lambda x, z : z[np.argmin([np.linalg.norm(x-y) for y in z])]\n",
        "z=([2,1], [7,2], [5.5,4], [4,8], [1,5], [9,6])\n",
        "x=np.array([5,6])\n",
        "nn(x,z)"
      ],
      "metadata": {
        "colab": {
          "base_uri": "https://localhost:8080/"
        },
        "id": "W0NYLFyv_fg5",
        "outputId": "f215a7ec-5079-4205-b8a5-680b9c1e8581"
      },
      "execution_count": 13,
      "outputs": [
        {
          "output_type": "execute_result",
          "data": {
            "text/plain": [
              "[5.5, 4]"
            ]
          },
          "metadata": {},
          "execution_count": 13
        }
      ]
    },
    {
      "cell_type": "code",
      "source": [
        "nn(np.array([3,3]), z)"
      ],
      "metadata": {
        "colab": {
          "base_uri": "https://localhost:8080/"
        },
        "id": "ufPScYHU_zTv",
        "outputId": "314ac8a9-e828-4ed3-d999-95e73cbe5646"
      },
      "execution_count": 15,
      "outputs": [
        {
          "output_type": "execute_result",
          "data": {
            "text/plain": [
              "[2, 1]"
            ]
          },
          "metadata": {},
          "execution_count": 15
        }
      ]
    },
    {
      "cell_type": "code",
      "source": [
        "de_mean=lambda x: x-sum(x)/len(x)\n",
        "x=np.array([1,-2.2,3])\n",
        "print('avg. of x : ', np.mean(x))\n",
        "demeaned_x=de_mean(x)\n",
        "print('y         : ', demeaned_x)\n",
        "print('avg. of x_tilde : ', np.mean(y))"
      ],
      "metadata": {
        "colab": {
          "base_uri": "https://localhost:8080/"
        },
        "id": "m7GZwOVU_6FD",
        "outputId": "931c846f-2084-412f-8ddc-b03f2ee00188"
      },
      "execution_count": 18,
      "outputs": [
        {
          "output_type": "stream",
          "name": "stdout",
          "text": [
            "avg. of x :  0.6\n",
            "y         :  [ 0.4 -2.8  2.4]\n",
            "avg. of x_tilde :  0.5780962649978436\n"
          ]
        }
      ]
    },
    {
      "cell_type": "code",
      "source": [
        "x=np.random.random(100)\n",
        "de_mean=lambda x: x-sum(x)/len(x)\n",
        "demeaned_x=de_mean(x)\n",
        "\n",
        "st_dev1=lambda x: np.linalg.norm(demeaned_x)/(len(x)**0.5)\n",
        "print(\"st_dev1: \", st_dev1(x))\n",
        "\n",
        "st_dev2=lambda x: np.linalg.norm(x-sum(x)/len(x))/(len(x)**0.5)\n",
        "print(\"st_dev2: \", st_dev2(x))"
      ],
      "metadata": {
        "colab": {
          "base_uri": "https://localhost:8080/"
        },
        "id": "jaVVhxovAyef",
        "outputId": "1fac7f02-aca6-4047-d7e6-8010e984fc98"
      },
      "execution_count": 19,
      "outputs": [
        {
          "output_type": "stream",
          "name": "stdout",
          "text": [
            "st_dev1:  0.2968330475672813\n",
            "st_dev2:  0.2968330475672813\n"
          ]
        }
      ]
    },
    {
      "cell_type": "code",
      "source": [
        "ang=lambda x,y : np.arccos(x@y/(np.linalg.norm(x)*np.linalg.norm(y)))\n",
        "a=np.array([1,2,-1])\n",
        "b=np.array([2,0,-3])\n",
        "print(\"angle     : \", ang(a,b))\n",
        "print(\"in degree : \", ang(a,b)*(360/(2*np.pi)))"
      ],
      "metadata": {
        "colab": {
          "base_uri": "https://localhost:8080/"
        },
        "id": "rfT6qK31BY_I",
        "outputId": "d19654e0-f880-4508-b6a7-98228081a1db"
      },
      "execution_count": 20,
      "outputs": [
        {
          "output_type": "stream",
          "name": "stdout",
          "text": [
            "angle     :  0.9689825515916383\n",
            "in degree :  55.51861062801842\n"
          ]
        }
      ]
    },
    {
      "cell_type": "code",
      "source": [
        "def corr_coef(a,b):\n",
        "  x=a-sum(a)/len(a)\n",
        "  y=b-sum(b)/len(b)\n",
        "  denom=(np.linalg.norm(x)*np.linalg.norm(y))\n",
        "  return (x@y)/denom\n",
        "\n",
        "a=np.array([4.4, 9.4, 15.4, 12.4, 10.4, 1.4, -4.6, -5.6, -0.6, 7.4])\n",
        "b=np.array([6.2, 11.2, 14.2, 14.2, 8.2, 2.2, -3.8, -4.8, -1.8, 4.2])\n",
        "print(\"case1: \", corr_coef(a,b))\n",
        "\n",
        "a=np.array([4.1, 10.1, 15.1, 13.1, 7.1, 2.1, -2.9, -5.9, 0.1, 7.1])\n",
        "b=np.array([5.5, -0.5, -4.5, -3.5, 1.5, 7.5, 13.5, 14.5, 11.5, 4.5])\n",
        "print(\"case2: \", corr_coef(a,b))\n",
        "\n",
        "a=np.array([-5.0, 0.0, 5.0, 8.0, 13.0, 11.0, 1.0, 6.0, 4.0, 7.0])\n",
        "b=np.array([5.8, 0.8, 7.8, 9.8, 0.8, 11.8, 10.8, 5.8, -0.2, -3.2])\n",
        "print(\"case3: \", corr_coef(a,b))"
      ],
      "metadata": {
        "colab": {
          "base_uri": "https://localhost:8080/"
        },
        "id": "n_5K-s27BzH5",
        "outputId": "8f2cdb66-1a99-4b74-c085-f47e0bea11c4"
      },
      "execution_count": 21,
      "outputs": [
        {
          "output_type": "stream",
          "name": "stdout",
          "text": [
            "case1:  0.9678196342570434\n",
            "case2:  -0.9875211120643734\n",
            "case3:  0.004020976661367021\n"
          ]
        }
      ]
    }
  ]
}
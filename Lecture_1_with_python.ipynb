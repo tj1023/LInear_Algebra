{
  "nbformat": 4,
  "nbformat_minor": 0,
  "metadata": {
    "colab": {
      "provenance": [],
      "authorship_tag": "ABX9TyMwL+rVCP7R33xZSQahm8D6",
      "include_colab_link": true
    },
    "kernelspec": {
      "name": "python3",
      "display_name": "Python 3"
    },
    "language_info": {
      "name": "python"
    }
  },
  "cells": [
    {
      "cell_type": "markdown",
      "metadata": {
        "id": "view-in-github",
        "colab_type": "text"
      },
      "source": [
        "<a href=\"https://colab.research.google.com/github/tj1023/LInear_Algebra/blob/main/Lecture_1_with_python.ipynb\" target=\"_parent\"><img src=\"https://colab.research.google.com/assets/colab-badge.svg\" alt=\"Open In Colab\"/></a>"
      ]
    },
    {
      "cell_type": "code",
      "execution_count": 1,
      "metadata": {
        "colab": {
          "base_uri": "https://localhost:8080/"
        },
        "id": "V4SS6CGyCIP0",
        "outputId": "7ea5f306-0997-4a0d-9416-c43127e2ab0f"
      },
      "outputs": [
        {
          "output_type": "execute_result",
          "data": {
            "text/plain": [
              "4"
            ]
          },
          "metadata": {},
          "execution_count": 1
        }
      ],
      "source": [
        "x = [-1.1, 0, 3.6, 7.2]\n",
        "len(x)"
      ]
    },
    {
      "cell_type": "code",
      "source": [
        "import numpy as np\n",
        "y = np.array([-1.1, 0, 3.6, 7.2])\n",
        "print(y)"
      ],
      "metadata": {
        "colab": {
          "base_uri": "https://localhost:8080/"
        },
        "id": "zD_z0spiEMZR",
        "outputId": "17005ca6-9cc0-4826-e6fb-a72fe6af68dd"
      },
      "execution_count": 2,
      "outputs": [
        {
          "output_type": "stream",
          "name": "stdout",
          "text": [
            "[-1.1  0.   3.6  7.2]\n"
          ]
        }
      ]
    },
    {
      "cell_type": "code",
      "source": [
        "x[2]"
      ],
      "metadata": {
        "colab": {
          "base_uri": "https://localhost:8080/"
        },
        "id": "AFCZS8g-EV18",
        "outputId": "2c4f2567-ad0b-4706-a6cc-e91ed020e1ad"
      },
      "execution_count": 3,
      "outputs": [
        {
          "output_type": "execute_result",
          "data": {
            "text/plain": [
              "3.6"
            ]
          },
          "metadata": {},
          "execution_count": 3
        }
      ]
    },
    {
      "cell_type": "code",
      "source": [
        "x[2] = 2022\n",
        "print(x[2])"
      ],
      "metadata": {
        "colab": {
          "base_uri": "https://localhost:8080/"
        },
        "id": "9eMFrrMmEX-8",
        "outputId": "42f0a629-0f49-442c-b3e1-20b67d62ed91"
      },
      "execution_count": 4,
      "outputs": [
        {
          "output_type": "stream",
          "name": "stdout",
          "text": [
            "2022\n"
          ]
        }
      ]
    },
    {
      "cell_type": "code",
      "source": [
        "a = np.array(x)\n",
        "b = a\n",
        "a[2] = 0\n",
        "print(\"a: \", a)\n",
        "print(\"b: \", b)"
      ],
      "metadata": {
        "colab": {
          "base_uri": "https://localhost:8080/"
        },
        "id": "6RDWvn5lEbJa",
        "outputId": "25455d18-81aa-4c58-9f11-577326190c6f"
      },
      "execution_count": 5,
      "outputs": [
        {
          "output_type": "stream",
          "name": "stdout",
          "text": [
            "a:  [-1.1  0.   0.   7.2]\n",
            "b:  [-1.1  0.   0.   7.2]\n"
          ]
        }
      ]
    },
    {
      "cell_type": "code",
      "source": [
        "a = np.array(x)\n",
        "b = a.copy()\n",
        "a[2] = 0\n",
        "print(\"a: \", a)\n",
        "print(\"b: \", b)"
      ],
      "metadata": {
        "colab": {
          "base_uri": "https://localhost:8080/"
        },
        "id": "GgeacnMUFKek",
        "outputId": "e9214ae2-952c-4936-9465-79776f56cbbb"
      },
      "execution_count": 6,
      "outputs": [
        {
          "output_type": "stream",
          "name": "stdout",
          "text": [
            "a:  [-1.1  0.   0.   7.2]\n",
            "b:  [-1.100e+00  0.000e+00  2.022e+03  7.200e+00]\n"
          ]
        }
      ]
    },
    {
      "cell_type": "code",
      "source": [
        "x = [-1.1, 0, 3.6, 7.2]\n",
        "y = x.copy()\n",
        "x == y"
      ],
      "metadata": {
        "colab": {
          "base_uri": "https://localhost:8080/"
        },
        "id": "AQuXqnBdFeDm",
        "outputId": "badef0e4-8b8c-454f-c581-ce67c779364e"
      },
      "execution_count": 7,
      "outputs": [
        {
          "output_type": "execute_result",
          "data": {
            "text/plain": [
              "True"
            ]
          },
          "metadata": {},
          "execution_count": 7
        }
      ]
    },
    {
      "cell_type": "code",
      "source": [
        "x = [-1.1, 0, 3.6, 7.2]\n",
        "y = x.copy()\n",
        "y[2] = 2022\n",
        "x == y"
      ],
      "metadata": {
        "colab": {
          "base_uri": "https://localhost:8080/"
        },
        "id": "X9sZ2ADyFnHO",
        "outputId": "0219609f-49b1-43e0-d043-e0e8dfc24fc3"
      },
      "execution_count": 8,
      "outputs": [
        {
          "output_type": "execute_result",
          "data": {
            "text/plain": [
              "False"
            ]
          },
          "metadata": {},
          "execution_count": 8
        }
      ]
    },
    {
      "cell_type": "code",
      "source": [
        "x = np.array([-1.1, 0, 3.6, 7.2])\n",
        "y = x.copy()\n",
        "x == y"
      ],
      "metadata": {
        "colab": {
          "base_uri": "https://localhost:8080/"
        },
        "id": "Va4HBLMJFq2u",
        "outputId": "078f5269-b9b1-4cbb-d365-775e91c98d14"
      },
      "execution_count": 9,
      "outputs": [
        {
          "output_type": "execute_result",
          "data": {
            "text/plain": [
              "array([ True,  True,  True,  True])"
            ]
          },
          "metadata": {},
          "execution_count": 9
        }
      ]
    },
    {
      "cell_type": "code",
      "source": [
        "x = np.array([-1.1, 0, 3.6, 7.2])\n",
        "y = x.copy()\n",
        "y[2] = 2022\n",
        "x == y"
      ],
      "metadata": {
        "colab": {
          "base_uri": "https://localhost:8080/"
        },
        "id": "fL7pIRkaF8_V",
        "outputId": "4c8f6f15-5131-4cef-a341-87f847287f7c"
      },
      "execution_count": 10,
      "outputs": [
        {
          "output_type": "execute_result",
          "data": {
            "text/plain": [
              "array([ True,  True, False,  True])"
            ]
          },
          "metadata": {},
          "execution_count": 10
        }
      ]
    },
    {
      "cell_type": "code",
      "source": [
        "x = 2022\n",
        "y = [2022]\n",
        "x == y"
      ],
      "metadata": {
        "colab": {
          "base_uri": "https://localhost:8080/"
        },
        "id": "5_y41wIoGANe",
        "outputId": "2aaf23ef-e6c4-4f74-d667-a1f1bfb33ef4"
      },
      "execution_count": 11,
      "outputs": [
        {
          "output_type": "execute_result",
          "data": {
            "text/plain": [
              "False"
            ]
          },
          "metadata": {},
          "execution_count": 11
        }
      ]
    },
    {
      "cell_type": "code",
      "source": [
        "x == y[0]"
      ],
      "metadata": {
        "colab": {
          "base_uri": "https://localhost:8080/"
        },
        "id": "1EioqMuwGEPN",
        "outputId": "972b0515-d357-4e52-e7d5-2195d12996eb"
      },
      "execution_count": 12,
      "outputs": [
        {
          "output_type": "execute_result",
          "data": {
            "text/plain": [
              "True"
            ]
          },
          "metadata": {},
          "execution_count": 12
        }
      ]
    },
    {
      "cell_type": "code",
      "source": [
        "x = 2022\n",
        "y = np.array([2022, 2022])\n",
        "x == y"
      ],
      "metadata": {
        "colab": {
          "base_uri": "https://localhost:8080/"
        },
        "id": "P3ccF33NGJf4",
        "outputId": "5cdfea50-4da1-43ae-d273-2ddc0ff4b2f1"
      },
      "execution_count": 13,
      "outputs": [
        {
          "output_type": "execute_result",
          "data": {
            "text/plain": [
              "array([ True,  True])"
            ]
          },
          "metadata": {},
          "execution_count": 13
        }
      ]
    },
    {
      "cell_type": "code",
      "source": [
        "x = np.array([1, 1])\n",
        "y = np.array([2, 2, 2])\n",
        "z = np.concatenate((x, y))\n",
        "print(z)"
      ],
      "metadata": {
        "colab": {
          "base_uri": "https://localhost:8080/"
        },
        "id": "b7RAb2CTGQKU",
        "outputId": "d9bcb0e7-04a1-4d14-b25e-f91326d7c731"
      },
      "execution_count": 14,
      "outputs": [
        {
          "output_type": "stream",
          "name": "stdout",
          "text": [
            "[1 1 2 2 2]\n"
          ]
        }
      ]
    },
    {
      "cell_type": "code",
      "source": [
        "x = [1, 1]\n",
        "y = [2, 2, 2]\n",
        "z = [x, y]\n",
        "print(z)"
      ],
      "metadata": {
        "colab": {
          "base_uri": "https://localhost:8080/"
        },
        "id": "JsWjU2JBGaDF",
        "outputId": "b400499e-4aa7-4967-f038-a691a5b423dc"
      },
      "execution_count": 15,
      "outputs": [
        {
          "output_type": "stream",
          "name": "stdout",
          "text": [
            "[[1, 1], [2, 2, 2]]\n"
          ]
        }
      ]
    },
    {
      "cell_type": "code",
      "source": [
        "x = np.array([1, 2, 3, 4, 5, 6, 7])\n",
        "y = x[1:4]\n",
        "print(y)"
      ],
      "metadata": {
        "colab": {
          "base_uri": "https://localhost:8080/"
        },
        "id": "JuljtbTqGlMA",
        "outputId": "17f238e0-e0f8-4ea2-be45-d4d11ebb0c9c"
      },
      "execution_count": 16,
      "outputs": [
        {
          "output_type": "stream",
          "name": "stdout",
          "text": [
            "[2 3 4]\n"
          ]
        }
      ]
    },
    {
      "cell_type": "code",
      "source": [
        "x[1:4] = [200, 300, 400]\n",
        "print(x)"
      ],
      "metadata": {
        "colab": {
          "base_uri": "https://localhost:8080/"
        },
        "id": "KVB4XqQlGwmb",
        "outputId": "b9e032b6-d723-45ef-9b7e-a7f2178c79b5"
      },
      "execution_count": 17,
      "outputs": [
        {
          "output_type": "stream",
          "name": "stdout",
          "text": [
            "[  1 200 300 400   5   6   7]\n"
          ]
        }
      ]
    },
    {
      "cell_type": "code",
      "source": [
        "x = np.array([1, 2, 3, 4, 5, 6, 7])\n",
        "print(x)"
      ],
      "metadata": {
        "colab": {
          "base_uri": "https://localhost:8080/"
        },
        "id": "dxoEPWfgG1rr",
        "outputId": "e96d5b80-bb6b-4f7e-bfd4-9594d3c3cddd"
      },
      "execution_count": 18,
      "outputs": [
        {
          "output_type": "stream",
          "name": "stdout",
          "text": [
            "[1 2 3 4 5 6 7]\n"
          ]
        }
      ]
    },
    {
      "cell_type": "code",
      "source": [
        "x[2:]"
      ],
      "metadata": {
        "colab": {
          "base_uri": "https://localhost:8080/"
        },
        "id": "64nZR0NXHQuZ",
        "outputId": "a26f3e4a-1649-410c-f041-6ae0e023e4ca"
      },
      "execution_count": 19,
      "outputs": [
        {
          "output_type": "execute_result",
          "data": {
            "text/plain": [
              "array([3, 4, 5, 6, 7])"
            ]
          },
          "metadata": {},
          "execution_count": 19
        }
      ]
    },
    {
      "cell_type": "code",
      "source": [
        "x[:-1]"
      ],
      "metadata": {
        "colab": {
          "base_uri": "https://localhost:8080/"
        },
        "id": "4bKQFPNhHStH",
        "outputId": "715ac5dc-288c-4215-b7fe-f2a9f57a3134"
      },
      "execution_count": 20,
      "outputs": [
        {
          "output_type": "execute_result",
          "data": {
            "text/plain": [
              "array([1, 2, 3, 4, 5, 6])"
            ]
          },
          "metadata": {},
          "execution_count": 20
        }
      ]
    },
    {
      "cell_type": "code",
      "source": [
        "x[1:5:2]"
      ],
      "metadata": {
        "colab": {
          "base_uri": "https://localhost:8080/"
        },
        "id": "0iLk8z-HHV9i",
        "outputId": "fc69a99f-6e0c-4797-c1fe-8ea9a125dbf5"
      },
      "execution_count": 21,
      "outputs": [
        {
          "output_type": "execute_result",
          "data": {
            "text/plain": [
              "array([2, 4])"
            ]
          },
          "metadata": {},
          "execution_count": 21
        }
      ]
    },
    {
      "cell_type": "code",
      "source": [
        "np.zeros(3)"
      ],
      "metadata": {
        "colab": {
          "base_uri": "https://localhost:8080/"
        },
        "id": "M-93VfmzHeiM",
        "outputId": "73fdb0ed-b90a-4518-f5e6-884789477fb4"
      },
      "execution_count": 22,
      "outputs": [
        {
          "output_type": "execute_result",
          "data": {
            "text/plain": [
              "array([0., 0., 0.])"
            ]
          },
          "metadata": {},
          "execution_count": 22
        }
      ]
    },
    {
      "cell_type": "code",
      "source": [
        "np.ones(4)"
      ],
      "metadata": {
        "colab": {
          "base_uri": "https://localhost:8080/"
        },
        "id": "ZpmPKbTjHhYZ",
        "outputId": "b24dab70-a285-43f5-f152-303c1c080e71"
      },
      "execution_count": 23,
      "outputs": [
        {
          "output_type": "execute_result",
          "data": {
            "text/plain": [
              "array([1., 1., 1., 1.])"
            ]
          },
          "metadata": {},
          "execution_count": 23
        }
      ]
    },
    {
      "cell_type": "code",
      "source": [
        "np.random.random(4)"
      ],
      "metadata": {
        "colab": {
          "base_uri": "https://localhost:8080/"
        },
        "id": "MK_nXMO7Hj4H",
        "outputId": "1b1a3b69-f1c8-4b81-e4bf-a322e39e8b69"
      },
      "execution_count": 24,
      "outputs": [
        {
          "output_type": "execute_result",
          "data": {
            "text/plain": [
              "array([0.78693618, 0.53059997, 0.16117494, 0.03552618])"
            ]
          },
          "metadata": {},
          "execution_count": 24
        }
      ]
    },
    {
      "cell_type": "code",
      "source": [
        "size = 4\n",
        "unit_vectors = []\n",
        "for i in range(size):\n",
        "  v = np.zeros(size)\n",
        "  v[i] = 1\n",
        "  unit_vectors.append(v)\n",
        "unit_vectors"
      ],
      "metadata": {
        "colab": {
          "base_uri": "https://localhost:8080/"
        },
        "id": "IfUs9BQ7Hpg6",
        "outputId": "26508745-363b-4cfd-a0e7-052bff1c2077"
      },
      "execution_count": 25,
      "outputs": [
        {
          "output_type": "execute_result",
          "data": {
            "text/plain": [
              "[array([1., 0., 0., 0.]),\n",
              " array([0., 1., 0., 0.]),\n",
              " array([0., 0., 1., 0.]),\n",
              " array([0., 0., 0., 1.])]"
            ]
          },
          "metadata": {},
          "execution_count": 25
        }
      ]
    },
    {
      "cell_type": "code",
      "source": [
        "import matplotlib.pyplot as plt\n",
        "data = [71, 71, 68, 69, 68, 69, 68, 74, 77, 82, 85, 86,\n",
        "        88, 86, 85, 86, 84, 79, 77, 75, 73, 71, 70, 70, 69, 69, 69,\n",
        "        69, 67, 68, 68, 73, 76, 77, 82, 84, 84, 81, 80, 78, 79, 78,\n",
        "        73, 72, 70, 70, 68, 67]\n",
        "plt.plot(data, '-bo')\n",
        "plt.savefig(\"temperature.pdf\", format = 'pdf')"
      ],
      "metadata": {
        "colab": {
          "base_uri": "https://localhost:8080/",
          "height": 265
        },
        "id": "xQ2wkYkFH4A0",
        "outputId": "94f30b65-2519-4f4d-a772-e7267a6739b7"
      },
      "execution_count": 26,
      "outputs": [
        {
          "output_type": "display_data",
          "data": {
            "text/plain": [
              "<Figure size 432x288 with 1 Axes>"
            ],
            "image/png": "[encoded data removed]"
          },
          "metadata": {
            "needs_background": "light"
          }
        }
      ]
    },
    {
      "cell_type": "code",
      "source": [
        "x = np.array([1, 2, 3])\n",
        "y = np.array([100, 200, 300])\n",
        "print('x + y = ', x+y)\n",
        "print('x - y', x-y)"
      ],
      "metadata": {
        "colab": {
          "base_uri": "https://localhost:8080/"
        },
        "id": "Bl7YzT0_Ih55",
        "outputId": "f95dc38e-5471-45e8-b43e-a8989c914ceb"
      },
      "execution_count": 27,
      "outputs": [
        {
          "output_type": "stream",
          "name": "stdout",
          "text": [
            "x + y =  [101 202 303]\n",
            "x - y [ -99 -198 -297]\n"
          ]
        }
      ]
    },
    {
      "cell_type": "code",
      "source": [
        "x = [1, 2, 3]\n",
        "y = [100, 200, 300]\n",
        "x + y"
      ],
      "metadata": {
        "colab": {
          "base_uri": "https://localhost:8080/"
        },
        "id": "dBJsmCe9IwpF",
        "outputId": "c04731bf-1403-4985-d70a-d68b3f2b3afd"
      },
      "execution_count": 28,
      "outputs": [
        {
          "output_type": "execute_result",
          "data": {
            "text/plain": [
              "[1, 2, 3, 100, 200, 300]"
            ]
          },
          "metadata": {},
          "execution_count": 28
        }
      ]
    },
    {
      "cell_type": "code",
      "source": [
        "x = np.array([1, 2, 3])\n",
        "print(100*x)\n",
        "print(x/100)"
      ],
      "metadata": {
        "colab": {
          "base_uri": "https://localhost:8080/"
        },
        "id": "PxbX9BXRI2UB",
        "outputId": "dc9e1a22-6a35-49cb-9803-5a671cbb1db7"
      },
      "execution_count": 29,
      "outputs": [
        {
          "output_type": "stream",
          "name": "stdout",
          "text": [
            "[100 200 300]\n",
            "[0.01 0.02 0.03]\n"
          ]
        }
      ]
    },
    {
      "cell_type": "code",
      "source": [
        "x = np.array([1, 2])\n",
        "y = np.array([100, 200])\n",
        "a = 0.5\n",
        "b = 0.5\n",
        "c = a * x + b * y\n",
        "print(c)"
      ],
      "metadata": {
        "colab": {
          "base_uri": "https://localhost:8080/"
        },
        "id": "nnUrSP2kI8uC",
        "outputId": "82222fe7-222e-487a-e3cf-0c397814db0f"
      },
      "execution_count": 30,
      "outputs": [
        {
          "output_type": "stream",
          "name": "stdout",
          "text": [
            "[ 50.5 101. ]\n"
          ]
        }
      ]
    },
    {
      "cell_type": "code",
      "source": [
        "x = np.array([1, 2])\n",
        "y = np.array([100, 200])\n",
        "vectors = [x, y]\n",
        "coefs = [0.5, 0.5]\n",
        "\n",
        "def linearCombination(vecs, coefs):\n",
        "  res = np.zeros(len(vecs[0]))\n",
        "  for i in range(len(vecs)):\n",
        "    res += coefs[i] * vecs[i]\n",
        "  return res\n",
        "\n",
        "linearCombination(vectors, coefs)"
      ],
      "metadata": {
        "colab": {
          "base_uri": "https://localhost:8080/"
        },
        "id": "Sy2FFeHJJFr8",
        "outputId": "ef36c494-63d9-4396-d868-ecc6718253ba"
      },
      "execution_count": 31,
      "outputs": [
        {
          "output_type": "execute_result",
          "data": {
            "text/plain": [
              "array([ 50.5, 101. ])"
            ]
          },
          "metadata": {},
          "execution_count": 31
        }
      ]
    },
    {
      "cell_type": "code",
      "source": [
        "a = np.random.random(3)\n",
        "b = np.random.random(3)\n",
        "beta = np.random.random()\n",
        "left = beta * (a + b)\n",
        "right = beta * a + beta * b\n",
        "left == right"
      ],
      "metadata": {
        "colab": {
          "base_uri": "https://localhost:8080/"
        },
        "id": "f2dm56NBJnk9",
        "outputId": "f53ae6c8-c813-429a-eddd-38d33690129c"
      },
      "execution_count": 32,
      "outputs": [
        {
          "output_type": "execute_result",
          "data": {
            "text/plain": [
              "array([False, False,  True])"
            ]
          },
          "metadata": {},
          "execution_count": 32
        }
      ]
    },
    {
      "cell_type": "code",
      "source": [
        "x = np.array([1, 2, 3])\n",
        "y = np.array([1, 10, 100])\n",
        "print(\"inner1: \", np.inner(x, y))\n",
        "\n",
        "print(\"inner2: \", x @ y)"
      ],
      "metadata": {
        "colab": {
          "base_uri": "https://localhost:8080/"
        },
        "id": "lX_zgcNxKCX2",
        "outputId": "160753ba-b997-4b30-8ee9-500cc8556249"
      },
      "execution_count": 33,
      "outputs": [
        {
          "output_type": "stream",
          "name": "stdout",
          "text": [
            "inner1:  321\n",
            "inner2:  321\n"
          ]
        }
      ]
    },
    {
      "cell_type": "code",
      "source": [
        "import time\n",
        "a = np.random.random(10**5)\n",
        "b = np.random.random(10**5)\n",
        "\n",
        "start = time.time()\n",
        "a @ b\n",
        "end = time.time()\n",
        "print(end - start)\n",
        "\n",
        "start = time.time()\n",
        "a @ b\n",
        "end = time.time()\n",
        "print(end - start)\n",
        "\n",
        "start = time.time()\n",
        "a @ b\n",
        "end = time.time()\n",
        "print(end - start)"
      ],
      "metadata": {
        "colab": {
          "base_uri": "https://localhost:8080/"
        },
        "id": "pdAIPLfRLLl8",
        "outputId": "c618d3df-c848-4243-8337-13d5ac5fe5b3"
      },
      "execution_count": 34,
      "outputs": [
        {
          "output_type": "stream",
          "name": "stdout",
          "text": [
            "0.009691476821899414\n",
            "0.0007648468017578125\n",
            "0.0006113052368164062\n"
          ]
        }
      ]
    },
    {
      "cell_type": "code",
      "source": [
        "a = np.random.random()\n",
        "b = np.random.random()\n",
        "left = (a + b) * (a - b)\n",
        "right = a**2 - b**2\n",
        "print(left == right)\n",
        "print(left - right)"
      ],
      "metadata": {
        "colab": {
          "base_uri": "https://localhost:8080/"
        },
        "id": "sL-Z91pWKJXO",
        "outputId": "48e3e151-dc18-4883-97e3-c5fd8421cb27"
      },
      "execution_count": 35,
      "outputs": [
        {
          "output_type": "stream",
          "name": "stdout",
          "text": [
            "True\n",
            "0.0\n"
          ]
        }
      ]
    }
  ]
}